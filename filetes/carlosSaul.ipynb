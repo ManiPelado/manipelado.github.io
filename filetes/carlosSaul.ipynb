{
 "cells": [
  {
   "cell_type": "markdown",
   "metadata": {},
   "source": [
    "# Carlos Saul | Incremento PBI anual vs crédito externo"
   ]
  },
  {
   "cell_type": "code",
   "execution_count": 25,
   "metadata": {},
   "outputs": [],
   "source": [
    "import pandas as pd"
   ]
  },
  {
   "cell_type": "markdown",
   "metadata": {},
   "source": [
    "Quiero comparar\n",
    "- incremento PBI anual, en U$S\n",
    "- créditos recibidos desde el exterior tanto al sector público como privado"
   ]
  },
  {
   "cell_type": "markdown",
   "metadata": {},
   "source": [
    "## PBI"
   ]
  },
  {
   "cell_type": "markdown",
   "metadata": {},
   "source": [
    "### Fuente: gobierno Argentina"
   ]
  },
  {
   "cell_type": "code",
   "execution_count": 26,
   "metadata": {},
   "outputs": [],
   "source": [
    "# https://datos.gob.ar/dataset/sspm-producto-interno-bruto-dolares-producto-interno-bruto-per-capita-poblacion\n",
    "pbi_url = \"https://infra.datos.gob.ar/catalog/sspm/dataset/9/distribution/9.1/download/producto-interno-bruto-precios-corrientes-valores-anuales-base-2004.csv\"\n",
    "pbi = pd.read_csv(pbi_url)"
   ]
  },
  {
   "cell_type": "code",
   "execution_count": 27,
   "metadata": {},
   "outputs": [
    {
     "data": {
      "text/plain": [
       "Index(['indice_tiempo', 'pib_precios_corrientes', 'pib_precios_2004',\n",
       "       'tcn_pesos_dolares', 'pib_dolares_precios_corrientes', 'poblacion',\n",
       "       'pib_per_capita_pesos_corrientes', 'pib_per_capita_dolares_corrientes',\n",
       "       'indice_precios_constantes'],\n",
       "      dtype='object')"
      ]
     },
     "execution_count": 27,
     "metadata": {},
     "output_type": "execute_result"
    }
   ],
   "source": [
    "pbi.columns"
   ]
  },
  {
   "cell_type": "code",
   "execution_count": 28,
   "metadata": {},
   "outputs": [
    {
     "data": {
      "text/plain": [
       "0     2004-01-01\n",
       "1     2005-01-01\n",
       "2     2006-01-01\n",
       "3     2007-01-01\n",
       "4     2008-01-01\n",
       "5     2009-01-01\n",
       "6     2010-01-01\n",
       "7     2011-01-01\n",
       "8     2012-01-01\n",
       "9     2013-01-01\n",
       "10    2014-01-01\n",
       "11    2015-01-01\n",
       "12    2016-01-01\n",
       "13    2017-01-01\n",
       "14    2018-01-01\n",
       "15    2019-01-01\n",
       "Name: indice_tiempo, dtype: object"
      ]
     },
     "execution_count": 28,
     "metadata": {},
     "output_type": "execute_result"
    }
   ],
   "source": [
    "pbi['indice_tiempo']"
   ]
  },
  {
   "cell_type": "markdown",
   "metadata": {},
   "source": [
    "¡Es joda esto! Solo desde el 2004...   \n",
    "Necesito otra fuente."
   ]
  },
  {
   "cell_type": "markdown",
   "metadata": {},
   "source": [
    "## Fuente: Banco Mundial\n",
    "https://datos.bancomundial.org/indicator/NY.GDP.MKTP.CD?locations=AR   \n",
    "Meta:   \n",
    "https://databank.bancomundial.org/reports.aspx?source=2&type=metadata&series=NY.GDP.MKTP.CD#\n",
    "\n",
    "PIB (US$ a precios actuales) - Argentina\n",
    "Algunos metadatos están solo en inglés\n",
    "\n",
    "El PIB a precio de comprador es la suma del valor agregado bruto de todos los productores residentes en la economía más todo impuesto a los productos, menos todo subsidio no incluido en el valor de los productos. Se calcula sin hacer deducciones por depreciación de bienes manufacturados o por agotamiento y degradación de recursos naturales. Los datos se expresan en moneda local a precios corrientes. Las cifras en dólares del PIB se obtuvieron convirtiendo el valor en moneda local utilizando los tipos de cambio oficiales de un único año. Para algunos países donde el tipo de cambio oficial no refleja el tipo efectivamente aplicado a las transacciones en divisas, se utiliza un factor de conversión alternativo.\n",
    "\n",
    "ID: NY.GDP.MKTP.CD   \n",
    "Fuente: Datos sobre las cuentas nacionales del Banco Mundial y archivos de datos sobre cuentas nacionales de la OCDE."
   ]
  },
  {
   "cell_type": "code",
   "execution_count": 29,
   "metadata": {},
   "outputs": [],
   "source": [
    "pbi_BM_url= 'http://api.worldbank.org/v2/es/indicator/NY.GDP.MKTP.CD?downloadformat=csv'"
   ]
  },
  {
   "cell_type": "code",
   "execution_count": 30,
   "metadata": {},
   "outputs": [
    {
     "data": {
      "text/plain": [
       "('pbi_BM.zip', <http.client.HTTPMessage at 0x7fbe6d346518>)"
      ]
     },
     "execution_count": 30,
     "metadata": {},
     "output_type": "execute_result"
    }
   ],
   "source": [
    "import urllib.request\n",
    "pbi_BM_zip = 'pbi_BM.zip'\n",
    "urllib.request.urlretrieve(pbi_BM_url, pbi_BM_zip)"
   ]
  },
  {
   "cell_type": "code",
   "execution_count": 31,
   "metadata": {},
   "outputs": [],
   "source": [
    "from zipfile import ZipFile\n",
    "\n",
    "zip_file = ZipFile(pbi_BM_zip)\n",
    "filess = [text_file.filename\n",
    "       for text_file in zip_file.infolist()\n",
    "       if text_file.filename.endswith('.csv')]"
   ]
  },
  {
   "cell_type": "code",
   "execution_count": 32,
   "metadata": {},
   "outputs": [
    {
     "data": {
      "text/plain": [
       "['Metadata_Indicator_API_NY.GDP.MKTP.CD_DS2_es_csv_v2_2015452.csv',\n",
       " 'API_NY.GDP.MKTP.CD_DS2_es_csv_v2_2015452.csv',\n",
       " 'Metadata_Country_API_NY.GDP.MKTP.CD_DS2_es_csv_v2_2015452.csv']"
      ]
     },
     "execution_count": 32,
     "metadata": {},
     "output_type": "execute_result"
    }
   ],
   "source": [
    "filess"
   ]
  },
  {
   "cell_type": "code",
   "execution_count": 33,
   "metadata": {},
   "outputs": [],
   "source": [
    "# levantar archivo con datos\n",
    "pbi_BM = pd.read_csv(zip_file.open(filess[1]), skiprows = 3)"
   ]
  },
  {
   "cell_type": "code",
   "execution_count": 34,
   "metadata": {},
   "outputs": [
    {
     "data": {
      "text/html": [
       "<div>\n",
       "<style scoped>\n",
       "    .dataframe tbody tr th:only-of-type {\n",
       "        vertical-align: middle;\n",
       "    }\n",
       "\n",
       "    .dataframe tbody tr th {\n",
       "        vertical-align: top;\n",
       "    }\n",
       "\n",
       "    .dataframe thead th {\n",
       "        text-align: right;\n",
       "    }\n",
       "</style>\n",
       "<table border=\"1\" class=\"dataframe\">\n",
       "  <thead>\n",
       "    <tr style=\"text-align: right;\">\n",
       "      <th></th>\n",
       "      <th>Country Name</th>\n",
       "      <th>Country Code</th>\n",
       "      <th>Indicator Name</th>\n",
       "      <th>Indicator Code</th>\n",
       "      <th>1960</th>\n",
       "      <th>1961</th>\n",
       "      <th>1962</th>\n",
       "      <th>1963</th>\n",
       "      <th>1964</th>\n",
       "      <th>1965</th>\n",
       "      <th>...</th>\n",
       "      <th>2012</th>\n",
       "      <th>2013</th>\n",
       "      <th>2014</th>\n",
       "      <th>2015</th>\n",
       "      <th>2016</th>\n",
       "      <th>2017</th>\n",
       "      <th>2018</th>\n",
       "      <th>2019</th>\n",
       "      <th>2020</th>\n",
       "      <th>Unnamed: 65</th>\n",
       "    </tr>\n",
       "  </thead>\n",
       "  <tbody>\n",
       "    <tr>\n",
       "      <th>7</th>\n",
       "      <td>Argentina</td>\n",
       "      <td>ARG</td>\n",
       "      <td>PIB (US$ a precios actuales)</td>\n",
       "      <td>NY.GDP.MKTP.CD</td>\n",
       "      <td>NaN</td>\n",
       "      <td>NaN</td>\n",
       "      <td>2.445060e+10</td>\n",
       "      <td>1.827212e+10</td>\n",
       "      <td>2.560525e+10</td>\n",
       "      <td>2.834471e+10</td>\n",
       "      <td>...</td>\n",
       "      <td>5.459824e+11</td>\n",
       "      <td>5.520251e+11</td>\n",
       "      <td>5.263197e+11</td>\n",
       "      <td>5.947493e+11</td>\n",
       "      <td>5.575314e+11</td>\n",
       "      <td>6.436287e+11</td>\n",
       "      <td>5.176267e+11</td>\n",
       "      <td>4.454452e+11</td>\n",
       "      <td>NaN</td>\n",
       "      <td>NaN</td>\n",
       "    </tr>\n",
       "  </tbody>\n",
       "</table>\n",
       "<p>1 rows × 66 columns</p>\n",
       "</div>"
      ],
      "text/plain": [
       "  Country Name Country Code                Indicator Name  Indicator Code  \\\n",
       "7    Argentina          ARG  PIB (US$ a precios actuales)  NY.GDP.MKTP.CD   \n",
       "\n",
       "   1960  1961          1962          1963          1964          1965  ...  \\\n",
       "7   NaN   NaN  2.445060e+10  1.827212e+10  2.560525e+10  2.834471e+10  ...   \n",
       "\n",
       "           2012          2013          2014          2015          2016  \\\n",
       "7  5.459824e+11  5.520251e+11  5.263197e+11  5.947493e+11  5.575314e+11   \n",
       "\n",
       "           2017          2018          2019  2020  Unnamed: 65  \n",
       "7  6.436287e+11  5.176267e+11  4.454452e+11   NaN          NaN  \n",
       "\n",
       "[1 rows x 66 columns]"
      ]
     },
     "execution_count": 34,
     "metadata": {},
     "output_type": "execute_result"
    }
   ],
   "source": [
    "# Argentina\n",
    "pbi_BM_AR = pbi_BM.loc[pbi_BM['Country Name']=='Argentina']\n",
    "pbi_BM_AR"
   ]
  },
  {
   "cell_type": "code",
   "execution_count": 49,
   "metadata": {},
   "outputs": [
    {
     "data": {
      "text/html": [
       "<div>\n",
       "<style scoped>\n",
       "    .dataframe tbody tr th:only-of-type {\n",
       "        vertical-align: middle;\n",
       "    }\n",
       "\n",
       "    .dataframe tbody tr th {\n",
       "        vertical-align: top;\n",
       "    }\n",
       "\n",
       "    .dataframe thead th {\n",
       "        text-align: right;\n",
       "    }\n",
       "</style>\n",
       "<table border=\"1\" class=\"dataframe\">\n",
       "  <thead>\n",
       "    <tr style=\"text-align: right;\">\n",
       "      <th></th>\n",
       "      <th>1991</th>\n",
       "      <th>1992</th>\n",
       "      <th>1993</th>\n",
       "      <th>1994</th>\n",
       "      <th>1995</th>\n",
       "      <th>1996</th>\n",
       "      <th>1997</th>\n",
       "      <th>1998</th>\n",
       "      <th>1999</th>\n",
       "      <th>2000</th>\n",
       "      <th>2001</th>\n",
       "      <th>2002</th>\n",
       "      <th>2003</th>\n",
       "      <th>2004</th>\n",
       "      <th>2005</th>\n",
       "      <th>2006</th>\n",
       "      <th>2007</th>\n",
       "    </tr>\n",
       "  </thead>\n",
       "  <tbody>\n",
       "    <tr>\n",
       "      <th>7</th>\n",
       "      <td>1.897200e+11</td>\n",
       "      <td>2.287886e+11</td>\n",
       "      <td>2.367417e+11</td>\n",
       "      <td>2.574400e+11</td>\n",
       "      <td>2.580318e+11</td>\n",
       "      <td>2.721498e+11</td>\n",
       "      <td>2.928590e+11</td>\n",
       "      <td>2.989482e+11</td>\n",
       "      <td>2.835230e+11</td>\n",
       "      <td>2.842038e+11</td>\n",
       "      <td>2.686968e+11</td>\n",
       "      <td>9.772400e+10</td>\n",
       "      <td>1.275870e+11</td>\n",
       "      <td>1.646579e+11</td>\n",
       "      <td>1.987371e+11</td>\n",
       "      <td>2.325573e+11</td>\n",
       "      <td>2.875305e+11</td>\n",
       "    </tr>\n",
       "  </tbody>\n",
       "</table>\n",
       "</div>"
      ],
      "text/plain": [
       "           1991          1992          1993          1994          1995  \\\n",
       "7  1.897200e+11  2.287886e+11  2.367417e+11  2.574400e+11  2.580318e+11   \n",
       "\n",
       "           1996          1997          1998          1999          2000  \\\n",
       "7  2.721498e+11  2.928590e+11  2.989482e+11  2.835230e+11  2.842038e+11   \n",
       "\n",
       "           2001          2002          2003          2004          2005  \\\n",
       "7  2.686968e+11  9.772400e+10  1.275870e+11  1.646579e+11  1.987371e+11   \n",
       "\n",
       "           2006          2007  \n",
       "7  2.325573e+11  2.875305e+11  "
      ]
     },
     "execution_count": 49,
     "metadata": {},
     "output_type": "execute_result"
    }
   ],
   "source": [
    "# PBI Convertibilidad: 1991 a 2002\n",
    "end_year = 52\n",
    "pbi_BM_AR_Carlo = pbi_BM_AR.iloc[:,35:end_year]\n",
    "pbi_BM_AR_Carlo"
   ]
  },
  {
   "cell_type": "code",
   "execution_count": 50,
   "metadata": {},
   "outputs": [
    {
     "data": {
      "text/html": [
       "<div>\n",
       "<style scoped>\n",
       "    .dataframe tbody tr th:only-of-type {\n",
       "        vertical-align: middle;\n",
       "    }\n",
       "\n",
       "    .dataframe tbody tr th {\n",
       "        vertical-align: top;\n",
       "    }\n",
       "\n",
       "    .dataframe thead th {\n",
       "        text-align: right;\n",
       "    }\n",
       "</style>\n",
       "<table border=\"1\" class=\"dataframe\">\n",
       "  <thead>\n",
       "    <tr style=\"text-align: right;\">\n",
       "      <th></th>\n",
       "      <th>1991</th>\n",
       "      <th>1992</th>\n",
       "      <th>1993</th>\n",
       "      <th>1994</th>\n",
       "      <th>1995</th>\n",
       "      <th>1996</th>\n",
       "      <th>1997</th>\n",
       "      <th>1998</th>\n",
       "      <th>1999</th>\n",
       "      <th>2000</th>\n",
       "      <th>2001</th>\n",
       "      <th>2002</th>\n",
       "      <th>2003</th>\n",
       "      <th>2004</th>\n",
       "      <th>2005</th>\n",
       "      <th>2006</th>\n",
       "      <th>2007</th>\n",
       "    </tr>\n",
       "  </thead>\n",
       "  <tbody>\n",
       "    <tr>\n",
       "      <th>7</th>\n",
       "      <td>NaN</td>\n",
       "      <td>3.906863e+10</td>\n",
       "      <td>7.953098e+09</td>\n",
       "      <td>2.069828e+10</td>\n",
       "      <td>591750000.0</td>\n",
       "      <td>1.411800e+10</td>\n",
       "      <td>2.070925e+10</td>\n",
       "      <td>6.089250e+09</td>\n",
       "      <td>-1.542525e+10</td>\n",
       "      <td>680750000.0</td>\n",
       "      <td>-1.550700e+10</td>\n",
       "      <td>-1.709727e+11</td>\n",
       "      <td>2.986297e+10</td>\n",
       "      <td>3.707096e+10</td>\n",
       "      <td>3.407916e+10</td>\n",
       "      <td>3.382017e+10</td>\n",
       "      <td>5.497325e+10</td>\n",
       "    </tr>\n",
       "  </tbody>\n",
       "</table>\n",
       "</div>"
      ],
      "text/plain": [
       "   1991          1992          1993          1994         1995          1996  \\\n",
       "7   NaN  3.906863e+10  7.953098e+09  2.069828e+10  591750000.0  1.411800e+10   \n",
       "\n",
       "           1997          1998          1999         2000          2001  \\\n",
       "7  2.070925e+10  6.089250e+09 -1.542525e+10  680750000.0 -1.550700e+10   \n",
       "\n",
       "           2002          2003          2004          2005          2006  \\\n",
       "7 -1.709727e+11  2.986297e+10  3.707096e+10  3.407916e+10  3.382017e+10   \n",
       "\n",
       "           2007  \n",
       "7  5.497325e+10  "
      ]
     },
     "execution_count": 50,
     "metadata": {},
     "output_type": "execute_result"
    }
   ],
   "source": [
    "# PBI diferencia interanual\n",
    "delta_pbi_BM_AR_Carlo = pbi_BM_AR_Carlo.diff(axis = 1)\n",
    "delta_pbi_BM_AR_Carlo"
   ]
  },
  {
   "cell_type": "code",
   "execution_count": 51,
   "metadata": {},
   "outputs": [
    {
     "data": {
      "text/plain": [
       "<AxesSubplot:title={'center':'$\\\\Delta$PBI interanual'}, ylabel='U$S'>"
      ]
     },
     "execution_count": 51,
     "metadata": {},
     "output_type": "execute_result"
    },
    {
     "data": {
      "image/png": "[encoded data removed]",
      "text/plain": [
       "<Figure size 432x288 with 1 Axes>"
      ]
     },
     "metadata": {
      "needs_background": "light"
     },
     "output_type": "display_data"
    }
   ],
   "source": [
    "(delta_pbi_BM_AR_Carlo.T).plot(kind='bar', legend=False, ylabel='U$S', title='$\\Delta$PBI interanual')"
   ]
  },
  {
   "cell_type": "markdown",
   "metadata": {},
   "source": [
    "## Deuda externa"
   ]
  },
  {
   "cell_type": "markdown",
   "metadata": {},
   "source": [
    "https://datos.bancomundial.org/indicator/DT.DOD.DECT.CD?locations=AR  \n",
    "Meta:  \n",
    "https://databank.bancomundial.org/data/reports.aspx?source=2&type=metadata&series=DT.DOD.DECT.CD\n",
    "\n",
    "Deuda externa acumulada, total (DOD, US$ a precios actuales) - Argentina\n",
    "Algunos metadatos están solo en inglés\n",
    "\n",
    "La deuda externa total es el monto adeudado a los no residentes, que se reembolsa en divisas, bienes o servicios. La deuda externa total es la suma de la deuda a largo plazo pública, con garantía pública, y privada no garantizada, el uso del crédito del FMI y la deuda a corto plazo. La deuda a corto plazo incluye toda la deuda con un vencimiento original de un año o menos y los atrasos en los intereses de la deuda a largo plazo. Datos en US$ a precios actuales.\n",
    "\n",
    "ID: DT.DOD.DECT.CD  \n",
    "Fuente: Banco Mundial, Flujos Mundiales de Financiamiento para el Desarrollo .\n",
    "\n",
    "Location-specific metadata  \n",
    "Argentina: Long-term public and publicly guaranteed and long-term private nonguaranteed debt data for 2019 are based on reports provided by the country. Long-term private nonguaranteed debt data before 2008 are World Bank staff estimates. Short-term debt data for 2019 are sourced by the Quarterly External Debt Statistics database (http://datatopics.worldbank.org/debt/qeds)."
   ]
  },
  {
   "cell_type": "code",
   "execution_count": 52,
   "metadata": {},
   "outputs": [],
   "source": [
    "deuda_BM_url = 'http://api.worldbank.org/v2/es/indicator/DT.DOD.DECT.CD?downloadformat=csv'"
   ]
  },
  {
   "cell_type": "code",
   "execution_count": 53,
   "metadata": {},
   "outputs": [
    {
     "data": {
      "text/plain": [
       "('deuda_BM.zip', <http.client.HTTPMessage at 0x7fbe6d04dd68>)"
      ]
     },
     "execution_count": 53,
     "metadata": {},
     "output_type": "execute_result"
    }
   ],
   "source": [
    "deuda_BM_zip = 'deuda_BM.zip'\n",
    "urllib.request.urlretrieve(deuda_BM_url, deuda_BM_zip)"
   ]
  },
  {
   "cell_type": "code",
   "execution_count": 54,
   "metadata": {},
   "outputs": [],
   "source": [
    "zip_file = ZipFile(deuda_BM_zip)\n",
    "filess = [text_file.filename\n",
    "       for text_file in zip_file.infolist()\n",
    "       if text_file.filename.endswith('.csv')]"
   ]
  },
  {
   "cell_type": "code",
   "execution_count": 55,
   "metadata": {},
   "outputs": [
    {
     "data": {
      "text/plain": [
       "['Metadata_Indicator_API_DT.DOD.DECT.CD_DS2_es_csv_v2_2045851.csv',\n",
       " 'API_DT.DOD.DECT.CD_DS2_es_csv_v2_2045851.csv',\n",
       " 'Metadata_Country_API_DT.DOD.DECT.CD_DS2_es_csv_v2_2045851.csv']"
      ]
     },
     "execution_count": 55,
     "metadata": {},
     "output_type": "execute_result"
    }
   ],
   "source": [
    "filess"
   ]
  },
  {
   "cell_type": "code",
   "execution_count": 56,
   "metadata": {},
   "outputs": [],
   "source": [
    "# levantar archivo con datos\n",
    "deuda_BM = pd.read_csv(zip_file.open(filess[1]), skiprows = 3)"
   ]
  },
  {
   "cell_type": "code",
   "execution_count": 57,
   "metadata": {},
   "outputs": [
    {
     "data": {
      "text/html": [
       "<div>\n",
       "<style scoped>\n",
       "    .dataframe tbody tr th:only-of-type {\n",
       "        vertical-align: middle;\n",
       "    }\n",
       "\n",
       "    .dataframe tbody tr th {\n",
       "        vertical-align: top;\n",
       "    }\n",
       "\n",
       "    .dataframe thead th {\n",
       "        text-align: right;\n",
       "    }\n",
       "</style>\n",
       "<table border=\"1\" class=\"dataframe\">\n",
       "  <thead>\n",
       "    <tr style=\"text-align: right;\">\n",
       "      <th></th>\n",
       "      <th>Country Name</th>\n",
       "      <th>Country Code</th>\n",
       "      <th>Indicator Name</th>\n",
       "      <th>Indicator Code</th>\n",
       "      <th>1960</th>\n",
       "      <th>1961</th>\n",
       "      <th>1962</th>\n",
       "      <th>1963</th>\n",
       "      <th>1964</th>\n",
       "      <th>1965</th>\n",
       "      <th>...</th>\n",
       "      <th>2012</th>\n",
       "      <th>2013</th>\n",
       "      <th>2014</th>\n",
       "      <th>2015</th>\n",
       "      <th>2016</th>\n",
       "      <th>2017</th>\n",
       "      <th>2018</th>\n",
       "      <th>2019</th>\n",
       "      <th>2020</th>\n",
       "      <th>Unnamed: 65</th>\n",
       "    </tr>\n",
       "  </thead>\n",
       "  <tbody>\n",
       "    <tr>\n",
       "      <th>7</th>\n",
       "      <td>Argentina</td>\n",
       "      <td>ARG</td>\n",
       "      <td>Deuda externa acumulada, total (DOD, US$ a pre...</td>\n",
       "      <td>DT.DOD.DECT.CD</td>\n",
       "      <td>NaN</td>\n",
       "      <td>NaN</td>\n",
       "      <td>NaN</td>\n",
       "      <td>NaN</td>\n",
       "      <td>NaN</td>\n",
       "      <td>NaN</td>\n",
       "      <td>...</td>\n",
       "      <td>1.398777e+11</td>\n",
       "      <td>1.502250e+11</td>\n",
       "      <td>1.537938e+11</td>\n",
       "      <td>1.771846e+11</td>\n",
       "      <td>1.893317e+11</td>\n",
       "      <td>2.369634e+11</td>\n",
       "      <td>2.836242e+11</td>\n",
       "      <td>2.793058e+11</td>\n",
       "      <td>NaN</td>\n",
       "      <td>NaN</td>\n",
       "    </tr>\n",
       "  </tbody>\n",
       "</table>\n",
       "<p>1 rows × 66 columns</p>\n",
       "</div>"
      ],
      "text/plain": [
       "  Country Name Country Code  \\\n",
       "7    Argentina          ARG   \n",
       "\n",
       "                                      Indicator Name  Indicator Code  1960  \\\n",
       "7  Deuda externa acumulada, total (DOD, US$ a pre...  DT.DOD.DECT.CD   NaN   \n",
       "\n",
       "   1961  1962  1963  1964  1965  ...          2012          2013  \\\n",
       "7   NaN   NaN   NaN   NaN   NaN  ...  1.398777e+11  1.502250e+11   \n",
       "\n",
       "           2014          2015          2016          2017          2018  \\\n",
       "7  1.537938e+11  1.771846e+11  1.893317e+11  2.369634e+11  2.836242e+11   \n",
       "\n",
       "           2019  2020  Unnamed: 65  \n",
       "7  2.793058e+11   NaN          NaN  \n",
       "\n",
       "[1 rows x 66 columns]"
      ]
     },
     "execution_count": 57,
     "metadata": {},
     "output_type": "execute_result"
    }
   ],
   "source": [
    "# Deuda Argentina\n",
    "deuda_BM_AR = deuda_BM.loc[pbi_BM['Country Name']=='Argentina']\n",
    "deuda_BM_AR"
   ]
  },
  {
   "cell_type": "code",
   "execution_count": 58,
   "metadata": {},
   "outputs": [
    {
     "data": {
      "text/html": [
       "<div>\n",
       "<style scoped>\n",
       "    .dataframe tbody tr th:only-of-type {\n",
       "        vertical-align: middle;\n",
       "    }\n",
       "\n",
       "    .dataframe tbody tr th {\n",
       "        vertical-align: top;\n",
       "    }\n",
       "\n",
       "    .dataframe thead th {\n",
       "        text-align: right;\n",
       "    }\n",
       "</style>\n",
       "<table border=\"1\" class=\"dataframe\">\n",
       "  <thead>\n",
       "    <tr style=\"text-align: right;\">\n",
       "      <th></th>\n",
       "      <th>1991</th>\n",
       "      <th>1992</th>\n",
       "      <th>1993</th>\n",
       "      <th>1994</th>\n",
       "      <th>1995</th>\n",
       "      <th>1996</th>\n",
       "      <th>1997</th>\n",
       "      <th>1998</th>\n",
       "      <th>1999</th>\n",
       "      <th>2000</th>\n",
       "      <th>2001</th>\n",
       "      <th>2002</th>\n",
       "      <th>2003</th>\n",
       "      <th>2004</th>\n",
       "      <th>2005</th>\n",
       "      <th>2006</th>\n",
       "      <th>2007</th>\n",
       "    </tr>\n",
       "  </thead>\n",
       "  <tbody>\n",
       "    <tr>\n",
       "      <th>7</th>\n",
       "      <td>6.567237e+10</td>\n",
       "      <td>6.860564e+10</td>\n",
       "      <td>6.468139e+10</td>\n",
       "      <td>7.509406e+10</td>\n",
       "      <td>9.877312e+10</td>\n",
       "      <td>1.111455e+11</td>\n",
       "      <td>1.282514e+11</td>\n",
       "      <td>1.415045e+11</td>\n",
       "      <td>1.519138e+11</td>\n",
       "      <td>1.500629e+11</td>\n",
       "      <td>1.526499e+11</td>\n",
       "      <td>1.483202e+11</td>\n",
       "      <td>1.634427e+11</td>\n",
       "      <td>1.679996e+11</td>\n",
       "      <td>1.307885e+11</td>\n",
       "      <td>1.189212e+11</td>\n",
       "      <td>1.208180e+11</td>\n",
       "    </tr>\n",
       "  </tbody>\n",
       "</table>\n",
       "</div>"
      ],
      "text/plain": [
       "           1991          1992          1993          1994          1995  \\\n",
       "7  6.567237e+10  6.860564e+10  6.468139e+10  7.509406e+10  9.877312e+10   \n",
       "\n",
       "           1996          1997          1998          1999          2000  \\\n",
       "7  1.111455e+11  1.282514e+11  1.415045e+11  1.519138e+11  1.500629e+11   \n",
       "\n",
       "           2001          2002          2003          2004          2005  \\\n",
       "7  1.526499e+11  1.483202e+11  1.634427e+11  1.679996e+11  1.307885e+11   \n",
       "\n",
       "           2006          2007  \n",
       "7  1.189212e+11  1.208180e+11  "
      ]
     },
     "execution_count": 58,
     "metadata": {},
     "output_type": "execute_result"
    }
   ],
   "source": [
    "# Deuda Convertibilidad: 1991 a 2002\n",
    "deuda_BM_AR_Carlo = deuda_BM_AR.iloc[:,35:end_year]\n",
    "deuda_BM_AR_Carlo"
   ]
  },
  {
   "cell_type": "code",
   "execution_count": 59,
   "metadata": {},
   "outputs": [
    {
     "data": {
      "text/html": [
       "<div>\n",
       "<style scoped>\n",
       "    .dataframe tbody tr th:only-of-type {\n",
       "        vertical-align: middle;\n",
       "    }\n",
       "\n",
       "    .dataframe tbody tr th {\n",
       "        vertical-align: top;\n",
       "    }\n",
       "\n",
       "    .dataframe thead th {\n",
       "        text-align: right;\n",
       "    }\n",
       "</style>\n",
       "<table border=\"1\" class=\"dataframe\">\n",
       "  <thead>\n",
       "    <tr style=\"text-align: right;\">\n",
       "      <th></th>\n",
       "      <th>1991</th>\n",
       "      <th>1992</th>\n",
       "      <th>1993</th>\n",
       "      <th>1994</th>\n",
       "      <th>1995</th>\n",
       "      <th>1996</th>\n",
       "      <th>1997</th>\n",
       "      <th>1998</th>\n",
       "      <th>1999</th>\n",
       "      <th>2000</th>\n",
       "      <th>2001</th>\n",
       "      <th>2002</th>\n",
       "      <th>2003</th>\n",
       "      <th>2004</th>\n",
       "      <th>2005</th>\n",
       "      <th>2006</th>\n",
       "      <th>2007</th>\n",
       "    </tr>\n",
       "  </thead>\n",
       "  <tbody>\n",
       "    <tr>\n",
       "      <th>7</th>\n",
       "      <td>NaN</td>\n",
       "      <td>2.933272e+09</td>\n",
       "      <td>-3.924252e+09</td>\n",
       "      <td>1.041267e+10</td>\n",
       "      <td>2.367906e+10</td>\n",
       "      <td>1.237238e+10</td>\n",
       "      <td>1.710594e+10</td>\n",
       "      <td>1.325306e+10</td>\n",
       "      <td>1.040930e+10</td>\n",
       "      <td>-1.850873e+09</td>\n",
       "      <td>2.587001e+09</td>\n",
       "      <td>-4.329737e+09</td>\n",
       "      <td>1.512250e+10</td>\n",
       "      <td>4.556947e+09</td>\n",
       "      <td>-3.721115e+10</td>\n",
       "      <td>-1.186726e+10</td>\n",
       "      <td>1.896806e+09</td>\n",
       "    </tr>\n",
       "  </tbody>\n",
       "</table>\n",
       "</div>"
      ],
      "text/plain": [
       "   1991          1992          1993          1994          1995          1996  \\\n",
       "7   NaN  2.933272e+09 -3.924252e+09  1.041267e+10  2.367906e+10  1.237238e+10   \n",
       "\n",
       "           1997          1998          1999          2000          2001  \\\n",
       "7  1.710594e+10  1.325306e+10  1.040930e+10 -1.850873e+09  2.587001e+09   \n",
       "\n",
       "           2002          2003          2004          2005          2006  \\\n",
       "7 -4.329737e+09  1.512250e+10  4.556947e+09 -3.721115e+10 -1.186726e+10   \n",
       "\n",
       "           2007  \n",
       "7  1.896806e+09  "
      ]
     },
     "execution_count": 59,
     "metadata": {},
     "output_type": "execute_result"
    }
   ],
   "source": [
    "# Douda diferencia interanual\n",
    "delta_deuda_BM_AR_Carlo = deuda_BM_AR_Carlo.diff(axis = 1)\n",
    "delta_deuda_BM_AR_Carlo"
   ]
  },
  {
   "cell_type": "code",
   "execution_count": 60,
   "metadata": {},
   "outputs": [
    {
     "data": {
      "text/plain": [
       "<AxesSubplot:title={'center':'$\\\\Delta$Deuda externa'}, ylabel='U$S'>"
      ]
     },
     "execution_count": 60,
     "metadata": {},
     "output_type": "execute_result"
    },
    {
     "data": {
      "image/png": "[encoded data removed]",
      "text/plain": [
       "<Figure size 432x288 with 1 Axes>"
      ]
     },
     "metadata": {
      "needs_background": "light"
     },
     "output_type": "display_data"
    }
   ],
   "source": [
    "(delta_deuda_BM_AR_Carlo.T).plot(kind='bar', legend=False, ylabel='U$S', title='$\\Delta$Deuda externa')"
   ]
  },
  {
   "cell_type": "markdown",
   "metadata": {},
   "source": [
    "## Comparemos"
   ]
  },
  {
   "cell_type": "code",
   "execution_count": 61,
   "metadata": {},
   "outputs": [],
   "source": [
    "compara = pd.DataFrame(delta_pbi_BM_AR_Carlo.T)\n",
    "compara.columns=['$\\Delta$PBI']\n",
    "compara['$\\Delta$Deuda externa'] = delta_deuda_BM_AR_Carlo.T"
   ]
  },
  {
   "cell_type": "code",
   "execution_count": 63,
   "metadata": {},
   "outputs": [
    {
     "data": {
      "image/png": "[encoded data removed]",
      "text/plain": [
       "<Figure size 720x432 with 1 Axes>"
      ]
     },
     "metadata": {
      "needs_background": "light"
     },
     "output_type": "display_data"
    }
   ],
   "source": [
    "compara_plot = compara.plot(kind='bar', ylabel='U$S', title='Variación interanual (al finalizar año)', figsize=(10,6) )"
   ]
  },
  {
   "cell_type": "code",
   "execution_count": 65,
   "metadata": {},
   "outputs": [],
   "source": [
    "compara_plot.figure.savefig('compara_plot.png')"
   ]
  },
  {
   "cell_type": "code",
   "execution_count": null,
   "metadata": {},
   "outputs": [],
   "source": []
  },
  {
   "cell_type": "code",
   "execution_count": null,
   "metadata": {},
   "outputs": [],
   "source": []
  },
  {
   "cell_type": "code",
   "execution_count": null,
   "metadata": {},
   "outputs": [],
   "source": []
  }
 ],
 "metadata": {
  "kernelspec": {
   "display_name": "Python 3",
   "language": "python",
   "name": "python3"
  },
  "language_info": {
   "codemirror_mode": {
    "name": "ipython",
    "version": 3
   },
   "file_extension": ".py",
   "mimetype": "text/x-python",
   "name": "python",
   "nbconvert_exporter": "python",
   "pygments_lexer": "ipython3",
   "version": "3.7.3"
  }
 },
 "nbformat": 4,
 "nbformat_minor": 4
}
